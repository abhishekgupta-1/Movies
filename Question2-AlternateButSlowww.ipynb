{
 "cells": [
  {
   "cell_type": "code",
   "execution_count": 1,
   "metadata": {},
   "outputs": [],
   "source": [
    "from pyspark import SparkContext, SparkConf\n",
    "conf = SparkConf().setAppName(\"Movies\")\n",
    "sc = SparkContext(conf = conf) "
   ]
  },
  {
   "cell_type": "code",
   "execution_count": 2,
   "metadata": {},
   "outputs": [],
   "source": [
    "df_users = sc.textFile('./moviedata/users.csv')\n",
    "df_zipcodes = sc.textFile('./moviedata/zipcodes.csv')\n",
    "df_rating = sc.textFile('./moviedata/rating.csv')\n",
    "df_movies = sc.textFile('./moviedata/movies.csv')"
   ]
  },
  {
   "cell_type": "code",
   "execution_count": 3,
   "metadata": {},
   "outputs": [],
   "source": [
    "def clean_df_movies(x):\n",
    "    y = x.split('\\\"')\n",
    "    return y[0].split(',')[0:1] + y[2].split(',')[2:]"
   ]
  },
  {
   "cell_type": "code",
   "execution_count": 4,
   "metadata": {},
   "outputs": [],
   "source": [
    "#New\n",
    "#Pseudocode:\n",
    "#for each genre:\n",
    "#  get list of movies in the above genre\n",
    "#  join list of movies with rating\n",
    "#  joining this with users to get zipcodes\n",
    "#  join this with zipcodes to get state\n",
    "#  reduce on basis of states to get average rating\n",
    "#  return the best average rating state(requirement of question)"
   ]
  },
  {
   "cell_type": "code",
   "execution_count": 5,
   "metadata": {},
   "outputs": [],
   "source": [
    "df_users = sc.textFile('./moviedata/users.csv').map(lambda x: x.split(\",\"))\n",
    "df_zipcodes = sc.textFile('./moviedata/zipcodes.csv').map(lambda x: x.split(\",\"))\n",
    "df_rating = sc.textFile('./moviedata/rating.csv').map(lambda x: x.split(\",\"))\n",
    "df_movies = sc.textFile('./moviedata/movies.csv')"
   ]
  },
  {
   "cell_type": "code",
   "execution_count": 6,
   "metadata": {},
   "outputs": [],
   "source": [
    "movieid_userid_rating = df_rating.map(lambda x: (x[1] , (x[0], float(x[2]))))"
   ]
  },
  {
   "cell_type": "code",
   "execution_count": 7,
   "metadata": {},
   "outputs": [],
   "source": [
    "userid_zipcode = df_users.map(lambda x : (x[0], x[4]))"
   ]
  },
  {
   "cell_type": "code",
   "execution_count": 8,
   "metadata": {},
   "outputs": [],
   "source": [
    "zipcode_state = df_zipcodes.map(lambda x: (x[0], x[3]))"
   ]
  },
  {
   "cell_type": "code",
   "execution_count": 9,
   "metadata": {},
   "outputs": [
    {
     "data": {
      "text/plain": [
       "[(u'97', (u'253', 4.0)),\n",
       " (u'269', (u'284', 4.0)),\n",
       " (u'526', (u'106', 4.0)),\n",
       " (u'180', (u'121', 3.0)),\n",
       " (u'86', (u'62', 2.0))]"
      ]
     },
     "execution_count": 9,
     "metadata": {},
     "output_type": "execute_result"
    }
   ],
   "source": [
    "movieid_userid_rating.take(5)"
   ]
  },
  {
   "cell_type": "code",
   "execution_count": 10,
   "metadata": {},
   "outputs": [],
   "source": [
    "#Clean df_movies\n",
    "df_movies_cleaned = df_movies.map(lambda x: clean_df_movies(x))"
   ]
  },
  {
   "cell_type": "code",
   "execution_count": 13,
   "metadata": {},
   "outputs": [
    {
     "name": "stdout",
     "output_type": "stream",
     "text": [
      "[(u'\"ME\"', 4.5)]\n",
      "[(u'\"MS\"', 5.0)]\n",
      "[(u'\"MS\"', 4.444444444444445)]\n",
      "[(u'\"WV\"', 4.666666666666667)]\n",
      "[(u'\"WV\"', 4.833333333333333)]\n",
      "[(u'\"SD\"', 5.0)]\n",
      "[(u'\"WV\"', 4.767441860465116)]\n",
      "[(u'\"AL\"', 5.0)]\n",
      "[(u'\"HI\"', 5.0)]\n",
      "[(u'\"ME\"', 5.0)]\n",
      "[(u'\"ME\"', 4.375)]\n",
      "[(u'\"WV\"', 4.666666666666667)]\n",
      "[(u'\"WV\"', 4.5)]\n",
      "[(u'\"WV\"', 4.476190476190476)]\n",
      "[(u'\"WV\"', 4.5)]\n",
      "[(u'\"WV\"', 4.684210526315789)]\n",
      "[(u'\"ME\"', 4.333333333333333)]\n"
     ]
    }
   ],
   "source": [
    "for genre_id in range(3, 20):\n",
    "    #  get list of movies in the above genre\n",
    "    movie_list = df_movies_cleaned.filter(lambda x : int(x[genre_id]) == 1).map(lambda x : (x[0], genre_id))\n",
    "\n",
    "    #  join list of movies with rating\n",
    "    userid_rating_list = movie_list.join(movieid_userid_rating).map(lambda x : (x[1][1][0], x[1][1][1]))\n",
    "\n",
    "    #  joining this with users to get zipcodes\n",
    "    zipcode_rating_list = userid_rating_list.join(userid_zipcode).map(lambda x : (x[1][1], x[1][0]))\n",
    "\n",
    "    #  join this with zipcodes to get state\n",
    "    state_rating_list = zipcode_rating_list.join(zipcode_state).map(lambda x : (x[1][1], (x[1][0], 1)))\n",
    "\n",
    "    #  reduce on basis of states to get average rating\n",
    "    state_avg_rating_tuple = state_rating_list.reduceByKey(lambda x, y : (x[0]+y[0], x[1]+y[1]))\n",
    "    state_avg_rating = state_avg_rating_tuple.map(lambda x: (x[0], float(x[1][0])/x[1][1]))\n",
    "    print state_avg_rating.takeOrdered(1, key = lambda x: -x[1])\n"
   ]
  },
  {
   "cell_type": "code",
   "execution_count": null,
   "metadata": {},
   "outputs": [],
   "source": []
  }
 ],
 "metadata": {
  "kernelspec": {
   "display_name": "Python 2",
   "language": "python",
   "name": "python2"
  },
  "language_info": {
   "codemirror_mode": {
    "name": "ipython",
    "version": 2
   },
   "file_extension": ".py",
   "mimetype": "text/x-python",
   "name": "python",
   "nbconvert_exporter": "python",
   "pygments_lexer": "ipython2",
   "version": "2.7.12"
  }
 },
 "nbformat": 4,
 "nbformat_minor": 2
}
