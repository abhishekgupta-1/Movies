{
 "cells": [
  {
   "cell_type": "code",
   "execution_count": 1,
   "metadata": {},
   "outputs": [],
   "source": [
    "from pyspark import SparkContext, SparkConf\n",
    "conf = SparkConf().setAppName(\"Movies\")\n",
    "sc = SparkContext(conf = conf) "
   ]
  },
  {
   "cell_type": "code",
   "execution_count": 2,
   "metadata": {},
   "outputs": [],
   "source": [
    "df_users = sc.textFile('./moviedata/users.csv')\n",
    "df_movies = sc.textFile('./moviedata/movies.csv')\n",
    "df_rating = sc.textFile('./moviedata/rating.csv')"
   ]
  },
  {
   "cell_type": "code",
   "execution_count": 3,
   "metadata": {},
   "outputs": [],
   "source": [
    "#Getting users between 10 and 18\n",
    "#Divide string in columns\n",
    "df_users_columns = df_users.map(lambda x: x.split(\",\"))\n",
    "#Filter users on the basis of age\n",
    "possible_userid_columns = df_users_columns.filter(lambda p: int(p[1])>=10 and int(p[1])<=18)\n",
    "#Getting only userid\n",
    "possible_userid = possible_userid_columns.map(lambda x: (x[0],  [\"epsilon\"]))"
   ]
  },
  {
   "cell_type": "code",
   "execution_count": 4,
   "metadata": {
    "scrolled": true
   },
   "outputs": [
    {
     "data": {
      "text/plain": [
       "53"
      ]
     },
     "execution_count": 4,
     "metadata": {},
     "output_type": "execute_result"
    }
   ],
   "source": [
    "possible_userid.count()"
   ]
  },
  {
   "cell_type": "code",
   "execution_count": 5,
   "metadata": {},
   "outputs": [],
   "source": [
    "#p[7] - children genre\n",
    "def select_genre(p):\n",
    "    return int(p[7])==1"
   ]
  },
  {
   "cell_type": "code",
   "execution_count": 6,
   "metadata": {},
   "outputs": [],
   "source": [
    "#movieids which have children as a genre\n",
    "#Divide string in columns\n",
    "movieid_columns = df_movies.map(lambda x: x.split(\",\"))\n",
    "#Filter on the basis on genre\n",
    "possible_movieid_columns = movieid_columns.filter(select_genre)\n",
    "#Getting only movieid\n",
    "possible_movieid = possible_movieid_columns.map(lambda x: (x[0], [\"epsilon\"]))"
   ]
  },
  {
   "cell_type": "code",
   "execution_count": 7,
   "metadata": {},
   "outputs": [
    {
     "data": {
      "text/plain": [
       "[(u'304', ['epsilon']),\n",
       " (u'308', ['epsilon']),\n",
       " (u'314', ['epsilon']),\n",
       " (u'374', ['epsilon']),\n",
       " (u'377', ['epsilon'])]"
      ]
     },
     "execution_count": 7,
     "metadata": {},
     "output_type": "execute_result"
    }
   ],
   "source": [
    "#Sample\n",
    "possible_movieid.take(5)"
   ]
  },
  {
   "cell_type": "code",
   "execution_count": 8,
   "metadata": {},
   "outputs": [],
   "source": [
    "#Divide string in columns\n",
    "df_rating_columns = df_rating.map(lambda x: x.split(\",\"))\n",
    "#RDD with userid as key, and movieid as value\n",
    "userid_movieid = df_rating_columns.map(lambda x: (x[0], [(x[1])]))\n",
    "#RDD with movieid as key, and userid as value\n",
    "movieid_userid = userid_movieid.map(lambda x: (x[1], x[0])) "
   ]
  },
  {
   "cell_type": "code",
   "execution_count": 9,
   "metadata": {},
   "outputs": [
    {
     "data": {
      "text/plain": [
       "[(u'253', [u'97']),\n",
       " (u'284', [u'269']),\n",
       " (u'106', [u'526']),\n",
       " (u'121', [u'180']),\n",
       " (u'62', [u'86'])]"
      ]
     },
     "execution_count": 9,
     "metadata": {},
     "output_type": "execute_result"
    }
   ],
   "source": [
    "#Sample\n",
    "userid_movieid.take(5)"
   ]
  },
  {
   "cell_type": "code",
   "execution_count": 10,
   "metadata": {},
   "outputs": [],
   "source": [
    "combined_rdd = userid_movieid.union(possible_userid)"
   ]
  },
  {
   "cell_type": "code",
   "execution_count": 11,
   "metadata": {},
   "outputs": [
    {
     "data": {
      "text/plain": [
       "[(u'253', [u'97']),\n",
       " (u'284', [u'269']),\n",
       " (u'106', [u'526']),\n",
       " (u'121', [u'180']),\n",
       " (u'62', [u'86'])]"
      ]
     },
     "execution_count": 11,
     "metadata": {},
     "output_type": "execute_result"
    }
   ],
   "source": [
    "#Sample\n",
    "combined_rdd.take(5)"
   ]
  },
  {
   "cell_type": "code",
   "execution_count": 12,
   "metadata": {},
   "outputs": [],
   "source": [
    "def find_epsilon(p):\n",
    "    for i in p[1]:\n",
    "        if(i == \"epsilon\"):\n",
    "            return True \n",
    "    return False"
   ]
  },
  {
   "cell_type": "code",
   "execution_count": 13,
   "metadata": {},
   "outputs": [],
   "source": [
    "#g - Group data by userID, epsilon is present in the movielist of users of age between 10 and 18\n",
    "filtered_combined_rdd = combined_rdd.reduceByKey(lambda x, y: x+y).filter(find_epsilon)"
   ]
  },
  {
   "cell_type": "code",
   "execution_count": 14,
   "metadata": {},
   "outputs": [],
   "source": [
    "#h - Records in which users are between 10 and 18\n",
    "#h - MovieID - UserID\n",
    "filtered_movieid_userid = filtered_combined_rdd.flatMap(lambda x: ((i, [x[0]]) for i in x[1] if i != \"epsilon\"))"
   ]
  },
  {
   "cell_type": "code",
   "execution_count": 15,
   "metadata": {},
   "outputs": [
    {
     "data": {
      "text/plain": [
       "[(u'252', [u'674']),\n",
       " (u'763', [u'674']),\n",
       " (u'300', [u'674']),\n",
       " (u'118', [u'674']),\n",
       " (u'50', [u'674'])]"
      ]
     },
     "execution_count": 15,
     "metadata": {},
     "output_type": "execute_result"
    }
   ],
   "source": [
    "filtered_movieid_userid.take(5)"
   ]
  },
  {
   "cell_type": "code",
   "execution_count": 16,
   "metadata": {},
   "outputs": [],
   "source": [
    "combined_rdd2 = possible_movieid.union(filtered_movieid_userid)"
   ]
  },
  {
   "cell_type": "code",
   "execution_count": 17,
   "metadata": {},
   "outputs": [
    {
     "data": {
      "text/plain": [
       "[(u'304', ['epsilon']),\n",
       " (u'308', ['epsilon']),\n",
       " (u'314', ['epsilon']),\n",
       " (u'374', ['epsilon']),\n",
       " (u'377', ['epsilon'])]"
      ]
     },
     "execution_count": 17,
     "metadata": {},
     "output_type": "execute_result"
    }
   ],
   "source": [
    "#Sample\n",
    "combined_rdd2.take(5)"
   ]
  },
  {
   "cell_type": "code",
   "execution_count": 18,
   "metadata": {},
   "outputs": [],
   "source": [
    "#Group users based on the movie they rated and then choose only children movies\n",
    "filtered_combined_rdd2 = combined_rdd2.reduceByKey(lambda x, y: x + y).filter(find_epsilon)"
   ]
  },
  {
   "cell_type": "code",
   "execution_count": 19,
   "metadata": {},
   "outputs": [
    {
     "data": {
      "text/plain": [
       "[(u'812', ['epsilon', u'642']),\n",
       " (u'261', ['epsilon', u'397', u'451', u'851', u'592', u'761'])]"
      ]
     },
     "execution_count": 19,
     "metadata": {},
     "output_type": "execute_result"
    }
   ],
   "source": [
    "#Sample\n",
    "filtered_combined_rdd2.take(2)"
   ]
  },
  {
   "cell_type": "code",
   "execution_count": 20,
   "metadata": {},
   "outputs": [],
   "source": [
    "#Generate UserID - MovieID list from `filtered_combined_rdd2`\n",
    "filtered_userid_movieid = filtered_combined_rdd2.flatMap(lambda x: ((i, [x[0]]) for i in x[1] if i != \"epsilon\")).reduceByKey(lambda x,y: x+ y)\n",
    "#Getting only users\n",
    "filtered_userid = filtered_userid_movieid.map(lambda x: x[0])\n"
   ]
  },
  {
   "cell_type": "code",
   "execution_count": 21,
   "metadata": {},
   "outputs": [
    {
     "data": {
      "text/plain": [
       "[u'632',\n",
       " u'142',\n",
       " u'849',\n",
       " u'289',\n",
       " u'588',\n",
       " u'179',\n",
       " u'434',\n",
       " u'101',\n",
       " u'851',\n",
       " u'642',\n",
       " u'451',\n",
       " u'761',\n",
       " u'52',\n",
       " u'347',\n",
       " u'206',\n",
       " u'67',\n",
       " u'507',\n",
       " u'813',\n",
       " u'880',\n",
       " u'482',\n",
       " u'471',\n",
       " u'621',\n",
       " u'887',\n",
       " u'461',\n",
       " u'57',\n",
       " u'609',\n",
       " u'618',\n",
       " u'270',\n",
       " u'281',\n",
       " u'582',\n",
       " u'528',\n",
       " u'620',\n",
       " u'787',\n",
       " u'453',\n",
       " u'859',\n",
       " u'592',\n",
       " u'341',\n",
       " u'674',\n",
       " u'700',\n",
       " u'863',\n",
       " u'397',\n",
       " u'580',\n",
       " u'628',\n",
       " u'257',\n",
       " u'550',\n",
       " u'646']"
      ]
     },
     "execution_count": 21,
     "metadata": {},
     "output_type": "execute_result"
    }
   ],
   "source": [
    "filtered_userid.collect()"
   ]
  },
  {
   "cell_type": "code",
   "execution_count": null,
   "metadata": {},
   "outputs": [],
   "source": []
  }
 ],
 "metadata": {
  "kernelspec": {
   "display_name": "Python 2",
   "language": "python",
   "name": "python2"
  },
  "language_info": {
   "codemirror_mode": {
    "name": "ipython",
    "version": 2
   },
   "file_extension": ".py",
   "mimetype": "text/x-python",
   "name": "python",
   "nbconvert_exporter": "python",
   "pygments_lexer": "ipython2",
   "version": "2.7.12"
  }
 },
 "nbformat": 4,
 "nbformat_minor": 2
}
