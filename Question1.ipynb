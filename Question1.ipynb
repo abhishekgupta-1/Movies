{
 "cells": [
  {
   "cell_type": "code",
   "execution_count": 1,
   "metadata": {
    "collapsed": true
   },
   "outputs": [],
   "source": [
    "from pyspark import SparkContext, SparkConf\n",
    "conf = SparkConf().setAppName(\"Movies\")\n",
    "sc = SparkContext(conf = conf) "
   ]
  },
  {
   "cell_type": "code",
   "execution_count": 2,
   "metadata": {
    "collapsed": true
   },
   "outputs": [],
   "source": [
    "def clean_df_movies(x):\n",
    "    y = x.split('\\\"')\n",
    "    return y[0].split(',')[0:1] + [y[1], ] +  y[2].split(',')[2:]"
   ]
  },
  {
   "cell_type": "code",
   "execution_count": 3,
   "metadata": {
    "collapsed": true
   },
   "outputs": [],
   "source": [
    "def mapreduce_join_util(x):\n",
    "#     print x[0], x[1]\n",
    "    first_d = []\n",
    "    second_d = []\n",
    "    for u, v in x[1]:\n",
    "        if u == 1:\n",
    "            first_d.append(v)\n",
    "        else:\n",
    "            second_d.append(v)\n",
    "    return [(u, v) for u in first_d for v in second_d]"
   ]
  },
  {
   "cell_type": "code",
   "execution_count": 4,
   "metadata": {
    "collapsed": true
   },
   "outputs": [],
   "source": [
    "def mapreduce_join(rdd1, rdd2):\n",
    "    rdd1_with_record_type = rdd1.map(lambda x: (x[0], [(1, x[1])]))\n",
    "    rdd2_with_record_type = rdd2.map(lambda x: (x[0],[(2, x[1])]))\n",
    "    combined_rdd = rdd1_with_record_type.union(rdd2_with_record_type).reduceByKey(lambda x,y : x+y)\n",
    "    return combined_rdd.flatMap(mapreduce_join_util)"
   ]
  },
  {
   "cell_type": "code",
   "execution_count": 5,
   "metadata": {
    "collapsed": true
   },
   "outputs": [],
   "source": [
    "df = sc.textFile('./moviedata/rating.csv')\n",
    "df_movies = sc.textFile('./moviedata/movies.csv')\n",
    "df_movies_cleaned = df_movies.map(clean_df_movies)\n",
    "df_movies_cleaned.take(5)\n",
    "movieid_moviename = df_movies_cleaned.map(lambda x : (str(x[0]), str(x[1])))"
   ]
  },
  {
   "cell_type": "code",
   "execution_count": 6,
   "metadata": {
    "collapsed": true
   },
   "outputs": [],
   "source": [
    "column_data = df.map(lambda x: x.split(\",\"))"
   ]
  },
  {
   "cell_type": "code",
   "execution_count": 7,
   "metadata": {
    "collapsed": true
   },
   "outputs": [],
   "source": [
    "movieid_rating = column_data.map(lambda x:(str(x[1]),(float(x[2]), 1)))"
   ]
  },
  {
   "cell_type": "code",
   "execution_count": 8,
   "metadata": {
    "collapsed": true
   },
   "outputs": [],
   "source": [
    "f = movieid_rating.reduceByKey(lambda x, y: (x[0]+y[0],x[1]+y[1]))"
   ]
  },
  {
   "cell_type": "code",
   "execution_count": 9,
   "metadata": {
    "collapsed": true
   },
   "outputs": [],
   "source": [
    "movie_avgrating = f.map(lambda x:(x[0],x[1][0]/x[1][1]))"
   ]
  },
  {
   "cell_type": "code",
   "execution_count": 10,
   "metadata": {
    "collapsed": true
   },
   "outputs": [],
   "source": [
    "moviename_avgrating = mapreduce_join(movieid_moviename, movie_avgrating)"
   ]
  },
  {
   "cell_type": "code",
   "execution_count": 11,
   "metadata": {},
   "outputs": [
    {
     "data": {
      "text/plain": [
       "[('Great Day in Harlem, A (1994)', 5.0),\n",
       " ('Letter From Death Row, A (1998)', 5.0),\n",
       " ('Marlene Dietrich: Shadow and Light (1996) ', 5.0),\n",
       " ('Tough and Deadly (1995)', 5.0),\n",
       " ('Entertaining Angels: The Dorothy Day Story (1996)', 5.0),\n",
       " ('Aiqing wansui (1994)', 5.0),\n",
       " ('Star Kid (1997)', 5.0),\n",
       " ('They Made Me a Criminal (1939)', 5.0),\n",
       " ('Santa with Muscles (1996)', 5.0),\n",
       " ('Saint of Fort Washington, The (1993)', 5.0)]"
      ]
     },
     "execution_count": 11,
     "metadata": {},
     "output_type": "execute_result"
    }
   ],
   "source": [
    "moviename_avgrating.takeOrdered(10, key = lambda x: -x[1])"
   ]
  },
  {
   "cell_type": "code",
   "execution_count": null,
   "metadata": {
    "collapsed": true
   },
   "outputs": [],
   "source": []
  }
 ],
 "metadata": {
  "kernelspec": {
   "display_name": "Python 2",
   "language": "python",
   "name": "python2"
  },
  "language_info": {
   "codemirror_mode": {
    "name": "ipython",
    "version": 2
   },
   "file_extension": ".py",
   "mimetype": "text/x-python",
   "name": "python",
   "nbconvert_exporter": "python",
   "pygments_lexer": "ipython2",
   "version": "2.7.13"
  }
 },
 "nbformat": 4,
 "nbformat_minor": 2
}
