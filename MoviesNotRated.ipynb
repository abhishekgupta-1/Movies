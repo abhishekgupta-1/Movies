{
 "cells": [
  {
   "cell_type": "code",
   "execution_count": 1,
   "metadata": {},
   "outputs": [],
   "source": [
    "from pyspark import SparkContext, SparkConf\n",
    "from operator import add\n",
    "\n",
    "conf = SparkConf().setAppName(\"Movies\")\n",
    "sc = SparkContext(conf = conf) \n",
    "\n",
    "from pyspark.sql import SQLContext\n",
    "sqlContext = SQLContext(sc)\n",
    "\n",
    "\n",
    "from pyspark.sql.types import *"
   ]
  },
  {
   "cell_type": "code",
   "execution_count": 3,
   "metadata": {},
   "outputs": [],
   "source": [
    "df_rating = sc.textFile('./moviedata/rating.csv')\n",
    "df_movies = sc.textFile('./moviedata/movies.csv')\n",
    "# df = sqlContext.read.format('com.databricks.spark.csv').load('./moviedata/rating.csv')"
   ]
  },
  {
   "cell_type": "code",
   "execution_count": 39,
   "metadata": {},
   "outputs": [],
   "source": [
    "all_movieids = df_movies.map(lambda x: x.split(\",\")).map(lambda x: (x[0], 0))\n",
    "#    map(lambda y: (int(y[1]),float(y[2])))\n",
    "# .\\\n",
    "#     map(lambda x: (x[0], x[1])"
   ]
  },
  {
   "cell_type": "code",
   "execution_count": 45,
   "metadata": {},
   "outputs": [],
   "source": [
    "movieid_rating = df_rating.map(lambda x: x.split(\",\")).map(lambda x:(x[1], 1)).reduceByKey(lambda x,y: 1)\n",
    "#     reduce(lambda x,y:(x+y))"
   ]
  },
  {
   "cell_type": "code",
   "execution_count": 46,
   "metadata": {},
   "outputs": [
    {
     "data": {
      "text/plain": [
       "1587"
      ]
     },
     "execution_count": 46,
     "metadata": {},
     "output_type": "execute_result"
    }
   ],
   "source": [
    "movieid_rating.count()"
   ]
  },
  {
   "cell_type": "code",
   "execution_count": 47,
   "metadata": {},
   "outputs": [],
   "source": [
    "f = all_movieids + movieid_rating"
   ]
  },
  {
   "cell_type": "code",
   "execution_count": 48,
   "metadata": {},
   "outputs": [
    {
     "data": {
      "text/plain": [
       "[(u'279', 0),\n",
       " (u'280', 0),\n",
       " (u'281', 0),\n",
       " (u'282', 0),\n",
       " (u'283', 0),\n",
       " (u'284', 0),\n",
       " (u'285', 0),\n",
       " (u'286', 0),\n",
       " (u'288', 0),\n",
       " (u'289', 0)]"
      ]
     },
     "execution_count": 48,
     "metadata": {},
     "output_type": "execute_result"
    }
   ],
   "source": [
    "f.take(10)"
   ]
  },
  {
   "cell_type": "code",
   "execution_count": 58,
   "metadata": {},
   "outputs": [],
   "source": [
    "def select_value_zero(p):\n",
    "    return p[1] == 0"
   ]
  },
  {
   "cell_type": "code",
   "execution_count": 59,
   "metadata": {},
   "outputs": [],
   "source": [
    "g = f.reduceByKey(lambda x, y: x+y).filter(select_value_zero)"
   ]
  },
  {
   "cell_type": "code",
   "execution_count": 60,
   "metadata": {},
   "outputs": [
    {
     "data": {
      "text/plain": [
       "[(u'1667', 0),\n",
       " (u'1663', 0),\n",
       " (u'1670', 0),\n",
       " (u'1666', 0),\n",
       " (u'1309', 0),\n",
       " (u'1669', 0),\n",
       " (u'1668', 0),\n",
       " (u'1310', 0),\n",
       " (u'1682', 0)]"
      ]
     },
     "execution_count": 60,
     "metadata": {},
     "output_type": "execute_result"
    }
   ],
   "source": [
    "g.take(10)"
   ]
  },
  {
   "cell_type": "code",
   "execution_count": 61,
   "metadata": {},
   "outputs": [],
   "source": [
    "movieid_not_rated = g.map(lambda x: x[0])"
   ]
  },
  {
   "cell_type": "code",
   "execution_count": 62,
   "metadata": {},
   "outputs": [
    {
     "data": {
      "text/plain": [
       "[u'1667',\n",
       " u'1663',\n",
       " u'1670',\n",
       " u'1666',\n",
       " u'1309',\n",
       " u'1669',\n",
       " u'1668',\n",
       " u'1310',\n",
       " u'1682']"
      ]
     },
     "execution_count": 62,
     "metadata": {},
     "output_type": "execute_result"
    }
   ],
   "source": [
    "movieid_not_rated.collect()"
   ]
  }
 ],
 "metadata": {
  "kernelspec": {
   "display_name": "Python 2",
   "language": "python",
   "name": "python2"
  },
  "language_info": {
   "codemirror_mode": {
    "name": "ipython",
    "version": 2
   },
   "file_extension": ".py",
   "mimetype": "text/x-python",
   "name": "python",
   "nbconvert_exporter": "python",
   "pygments_lexer": "ipython2",
   "version": "2.7.12"
  }
 },
 "nbformat": 4,
 "nbformat_minor": 2
}
