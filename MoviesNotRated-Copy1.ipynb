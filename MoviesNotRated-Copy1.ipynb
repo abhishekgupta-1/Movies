{
 "cells": [
  {
   "cell_type": "code",
   "execution_count": 1,
   "metadata": {},
   "outputs": [],
   "source": [
    "from pyspark import SparkContext, SparkConf\n",
    "from operator import add\n",
    "\n",
    "conf = SparkConf().setAppName(\"Movies\")\n",
    "sc = SparkContext(conf = conf) \n",
    "\n",
    "from pyspark.sql import SQLContext\n",
    "sqlContext = SQLContext(sc)\n",
    "\n",
    "\n",
    "from pyspark.sql.types import *"
   ]
  },
  {
   "cell_type": "code",
   "execution_count": 2,
   "metadata": {},
   "outputs": [],
   "source": [
    "df_users = sc.textFile('./moviedata/users.csv')\n",
    "df_movies = sc.textFile('./moviedata/movies.csv')\n",
    "df_rating = sc.textFile('./moviedata/rating.csv')\n",
    "# df = sqlContext.read.format('com.databricks.spark.csv').load('./moviedata/rating.csv')"
   ]
  },
  {
   "cell_type": "code",
   "execution_count": 3,
   "metadata": {},
   "outputs": [],
   "source": [
    "def select_age(p):\n",
    "    return int(p[1])>=10 and int(p[1])<=18"
   ]
  },
  {
   "cell_type": "code",
   "execution_count": 4,
   "metadata": {},
   "outputs": [],
   "source": [
    "#User between 10 and 18\n",
    "possible_userid = df_users.map(lambda x: x.split(\",\")).filter(select_age).map(lambda x: (x[0],  [\"epsilon\"]))\n",
    "#    map(lambda y: (int(y[1]),float(y[2])))\n",
    "# .\\\n",
    "#     map(lambda x: (x[0], x[1])"
   ]
  },
  {
   "cell_type": "code",
   "execution_count": 11,
   "metadata": {},
   "outputs": [
    {
     "data": {
      "text/plain": [
       "53"
      ]
     },
     "execution_count": 11,
     "metadata": {},
     "output_type": "execute_result"
    }
   ],
   "source": [
    "possible_userid.count()"
   ]
  },
  {
   "cell_type": "code",
   "execution_count": 12,
   "metadata": {},
   "outputs": [],
   "source": [
    "#p[7] - children genre\n",
    "def select_genre(p):\n",
    "    return int(p[7])==1"
   ]
  },
  {
   "cell_type": "code",
   "execution_count": 13,
   "metadata": {},
   "outputs": [],
   "source": [
    "#movieIDs for children :|\n",
    "possible_movieid = df_movies.map(lambda x: x.split(\",\")).filter(select_genre).map(lambda x: (x[0], [\"epsilon\"]))\n",
    "#     reduce(lambda x,y:(x+y))"
   ]
  },
  {
   "cell_type": "code",
   "execution_count": 14,
   "metadata": {},
   "outputs": [
    {
     "data": {
      "text/plain": [
       "[(u'304', ['epsilon']),\n",
       " (u'308', ['epsilon']),\n",
       " (u'314', ['epsilon']),\n",
       " (u'374', ['epsilon']),\n",
       " (u'377', ['epsilon'])]"
      ]
     },
     "execution_count": 14,
     "metadata": {},
     "output_type": "execute_result"
    }
   ],
   "source": [
    "possible_movieid.take(5)"
   ]
  },
  {
   "cell_type": "code",
   "execution_count": 15,
   "metadata": {},
   "outputs": [],
   "source": [
    "userid_movieid = df_rating.map(lambda x: x.split(\",\")).map(lambda x: (x[0], [(x[1])]))\n",
    "movieid_userid = userid_movieid.map(lambda x: (x[1], x[0])) "
   ]
  },
  {
   "cell_type": "code",
   "execution_count": 16,
   "metadata": {},
   "outputs": [
    {
     "data": {
      "text/plain": [
       "[(u'253', [u'97']),\n",
       " (u'284', [u'269']),\n",
       " (u'106', [u'526']),\n",
       " (u'121', [u'180']),\n",
       " (u'62', [u'86']),\n",
       " (u'291', [u'418']),\n",
       " (u'84', [u'1033']),\n",
       " (u'293', [u'380']),\n",
       " (u'207', [u'58']),\n",
       " (u'109', [u'97'])]"
      ]
     },
     "execution_count": 16,
     "metadata": {},
     "output_type": "execute_result"
    }
   ],
   "source": [
    "userid_movieid.take(10)"
   ]
  },
  {
   "cell_type": "code",
   "execution_count": 17,
   "metadata": {},
   "outputs": [],
   "source": [
    "f = userid_movieid + possible_userid\n"
   ]
  },
  {
   "cell_type": "code",
   "execution_count": 18,
   "metadata": {},
   "outputs": [
    {
     "data": {
      "text/plain": [
       "[(u'253', [u'97']),\n",
       " (u'284', [u'269']),\n",
       " (u'106', [u'526']),\n",
       " (u'121', [u'180']),\n",
       " (u'62', [u'86']),\n",
       " (u'291', [u'418']),\n",
       " (u'84', [u'1033']),\n",
       " (u'293', [u'380']),\n",
       " (u'207', [u'58']),\n",
       " (u'109', [u'97'])]"
      ]
     },
     "execution_count": 18,
     "metadata": {},
     "output_type": "execute_result"
    }
   ],
   "source": [
    "f.take(10)"
   ]
  },
  {
   "cell_type": "code",
   "execution_count": 19,
   "metadata": {},
   "outputs": [],
   "source": [
    "def find_epsilon(p):\n",
    "    for i in p[1]:\n",
    "        if(i == \"epsilon\"):\n",
    "            return True \n",
    "    return False"
   ]
  },
  {
   "cell_type": "code",
   "execution_count": 20,
   "metadata": {},
   "outputs": [],
   "source": [
    "#g - Group data by userID, epsilon is present in the movielist of users of age between 10 and 18\n",
    "g = f.reduceByKey(lambda x, y: x+y).filter(find_epsilon)"
   ]
  },
  {
   "cell_type": "code",
   "execution_count": 21,
   "metadata": {},
   "outputs": [],
   "source": [
    "#h - Records in which users are between 10 and 18\n",
    "#h - MovieID - UserID\n",
    "h = g.flatMap(lambda x: ((i, [x[0]]) for i in x[1] if i != \"epsilon\"))"
   ]
  },
  {
   "cell_type": "code",
   "execution_count": 22,
   "metadata": {},
   "outputs": [
    {
     "data": {
      "text/plain": [
       "[(u'252', [u'674']),\n",
       " (u'763', [u'674']),\n",
       " (u'300', [u'674']),\n",
       " (u'118', [u'674']),\n",
       " (u'50', [u'674']),\n",
       " (u'685', [u'674']),\n",
       " (u'282', [u'674']),\n",
       " (u'929', [u'674']),\n",
       " (u'25', [u'674']),\n",
       " (u'304', [u'674']),\n",
       " (u'127', [u'674']),\n",
       " (u'405', [u'674']),\n",
       " (u'315', [u'674'])]"
      ]
     },
     "execution_count": 22,
     "metadata": {},
     "output_type": "execute_result"
    }
   ],
   "source": [
    "h.take(13)"
   ]
  },
  {
   "cell_type": "code",
   "execution_count": null,
   "metadata": {},
   "outputs": [],
   "source": [
    "# for i in g:\n",
    "#     check_movies = i.map(lambda x: (i[1], 0)\n",
    "#     check_movies + \n",
    "p = possible_movieid + h"
   ]
  },
  {
   "cell_type": "code",
   "execution_count": null,
   "metadata": {},
   "outputs": [],
   "source": [
    "p.take(10)"
   ]
  },
  {
   "cell_type": "code",
   "execution_count": null,
   "metadata": {},
   "outputs": [],
   "source": [
    "#Group users based on the movie they rated and then choose only children movies\n",
    "r = p.reduceByKey(lambda x, y: x + y).filter(find_epsilon)"
   ]
  },
  {
   "cell_type": "code",
   "execution_count": null,
   "metadata": {},
   "outputs": [],
   "source": [
    "r.collect()"
   ]
  },
  {
   "cell_type": "code",
   "execution_count": null,
   "metadata": {},
   "outputs": [],
   "source": [
    "#Generate UserID - MovieID list from `r`\n",
    "q = r.flatMap(lambda x: ((i, [x[0]]) for i in x[1] if i != \"epsilon\")).reduceByKey(lambda x,y: x+ y)\n",
    "q.map(lambda x: x[0]).collect()"
   ]
  },
  {
   "cell_type": "code",
   "execution_count": null,
   "metadata": {},
   "outputs": [],
   "source": []
  },
  {
   "cell_type": "code",
   "execution_count": 23,
   "metadata": {},
   "outputs": [],
   "source": [
    "nonchildren_movies = df_movies.map(lambda x: x.split(\",\")).filter(lambda x: int(x[7])==0).map(lambda x: (x[0], [\"epsilon\"]))\n",
    "#     reduce(lambda x,y:(x+y))"
   ]
  },
  {
   "cell_type": "code",
   "execution_count": null,
   "metadata": {},
   "outputs": [],
   "source": [
    "nonchildren_movie_raters = (nonchildren_movies + )"
   ]
  },
  {
   "cell_type": "code",
   "execution_count": 10,
   "metadata": {},
   "outputs": [
    {
     "data": {
      "text/plain": [
       "1498"
      ]
     },
     "execution_count": 10,
     "metadata": {},
     "output_type": "execute_result"
    }
   ],
   "source": [
    "nonchildren_movies.count()"
   ]
  },
  {
   "cell_type": "code",
   "execution_count": null,
   "metadata": {},
   "outputs": [],
   "source": []
  }
 ],
 "metadata": {
  "kernelspec": {
   "display_name": "Python 2",
   "language": "python",
   "name": "python2"
  },
  "language_info": {
   "codemirror_mode": {
    "name": "ipython",
    "version": 2
   },
   "file_extension": ".py",
   "mimetype": "text/x-python",
   "name": "python",
   "nbconvert_exporter": "python",
   "pygments_lexer": "ipython2",
   "version": "2.7.12"
  }
 },
 "nbformat": 4,
 "nbformat_minor": 2
}
