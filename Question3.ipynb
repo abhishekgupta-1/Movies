{
 "cells": [
  {
   "cell_type": "code",
   "execution_count": 1,
   "metadata": {},
   "outputs": [],
   "source": [
    "from pyspark import SparkContext, SparkConf\n",
    "conf = SparkConf().setAppName(\"Movies\")\n",
    "sc = SparkContext(conf = conf) "
   ]
  },
  {
   "cell_type": "code",
   "execution_count": 2,
   "metadata": {},
   "outputs": [],
   "source": [
    "df_rating = sc.textFile('./moviedata/rating.csv')\n",
    "df_movies = sc.textFile('./moviedata/movies.csv')"
   ]
  },
  {
   "cell_type": "code",
   "execution_count": 3,
   "metadata": {},
   "outputs": [],
   "source": [
    "def clean_df_movies(x):\n",
    "    y = x.split('\\\"')\n",
    "    return y[0].split(',')[0:1] + [y[1], ] +  y[2].split(',')[2:]"
   ]
  },
  {
   "cell_type": "code",
   "execution_count": 4,
   "metadata": {},
   "outputs": [],
   "source": [
    "#Get RDD of all movies\n",
    "all_movieids = df_movies.map(clean_df_movies).map(lambda x: (x[0], 0))"
   ]
  },
  {
   "cell_type": "code",
   "execution_count": 5,
   "metadata": {},
   "outputs": [],
   "source": [
    "#Get RDD of rated movies\n",
    "movieid_rating = df_rating.map(lambda x: x.split(\",\")).map(lambda x:(x[1], 1)).reduceByKey(lambda x,y: 1)"
   ]
  },
  {
   "cell_type": "code",
   "execution_count": 6,
   "metadata": {},
   "outputs": [],
   "source": [
    "allmovies_ratedmovies = all_movieids.union(movieid_rating)"
   ]
  },
  {
   "cell_type": "code",
   "execution_count": 7,
   "metadata": {},
   "outputs": [],
   "source": [
    "unrated_movies = allmovies_ratedmovies.reduceByKey(lambda x, y: x+y).filter(lambda x : x[1]==0)"
   ]
  },
  {
   "cell_type": "code",
   "execution_count": 8,
   "metadata": {},
   "outputs": [],
   "source": [
    "unrated_movies = unrated_movies.map(lambda x: x[0])"
   ]
  },
  {
   "cell_type": "code",
   "execution_count": 9,
   "metadata": {
    "scrolled": true
   },
   "outputs": [
    {
     "data": {
      "text/plain": [
       "[u'1667',\n",
       " u'1663',\n",
       " u'1670',\n",
       " u'1666',\n",
       " u'1309',\n",
       " u'1669',\n",
       " u'1668',\n",
       " u'1310',\n",
       " u'1682']"
      ]
     },
     "execution_count": 9,
     "metadata": {},
     "output_type": "execute_result"
    }
   ],
   "source": [
    "unrated_movies.collect()"
   ]
  },
  {
   "cell_type": "code",
   "execution_count": 10,
   "metadata": {},
   "outputs": [
    {
     "data": {
      "text/plain": [
       "9"
      ]
     },
     "execution_count": 10,
     "metadata": {},
     "output_type": "execute_result"
    }
   ],
   "source": [
    "#count of unrated movies, just for verification\n",
    "all_movieids.count() - movieid_rating.count()"
   ]
  },
  {
   "cell_type": "code",
   "execution_count": null,
   "metadata": {},
   "outputs": [],
   "source": []
  }
 ],
 "metadata": {
  "kernelspec": {
   "display_name": "Python 2",
   "language": "python",
   "name": "python2"
  },
  "language_info": {
   "codemirror_mode": {
    "name": "ipython",
    "version": 2
   },
   "file_extension": ".py",
   "mimetype": "text/x-python",
   "name": "python",
   "nbconvert_exporter": "python",
   "pygments_lexer": "ipython2",
   "version": "2.7.12"
  }
 },
 "nbformat": 4,
 "nbformat_minor": 2
}
