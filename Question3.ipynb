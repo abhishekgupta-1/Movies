{
 "cells": [
  {
   "cell_type": "code",
   "execution_count": 1,
   "metadata": {},
   "outputs": [],
   "source": [
    "from pyspark import SparkContext, SparkConf\n",
    "conf = SparkConf().setAppName(\"Movies\")\n",
    "sc = SparkContext(conf = conf) "
   ]
  },
  {
   "cell_type": "code",
   "execution_count": 2,
   "metadata": {},
   "outputs": [],
   "source": [
    "df_rating = sc.textFile('./moviedata/rating.csv')\n",
    "df_movies = sc.textFile('./moviedata/movies.csv')"
   ]
  },
  {
   "cell_type": "code",
   "execution_count": 3,
   "metadata": {},
   "outputs": [],
   "source": [
    "def clean_df_movies(x):\n",
    "    y = x.split('\\\"')\n",
    "    return y[0].split(',')[0:1] + [y[1], ] +  y[2].split(',')[2:]"
   ]
  },
  {
   "cell_type": "code",
   "execution_count": 32,
   "metadata": {},
   "outputs": [],
   "source": [
    "def mapreduce_join_util(x):\n",
    "#     print x[0], x[1]\n",
    "    first_d = []\n",
    "    second_d = []\n",
    "    for u, v in x[1]:\n",
    "        if u == 1:\n",
    "            first_d.append(v)\n",
    "        else:\n",
    "            second_d.append(v)\n",
    "    return [(u, v) for u in first_d for v in second_d]"
   ]
  },
  {
   "cell_type": "code",
   "execution_count": 33,
   "metadata": {},
   "outputs": [],
   "source": [
    "def mapreduce_join(rdd1, rdd2):\n",
    "    rdd1_with_record_type = rdd1.map(lambda x: (x[0], [(1, x[1])]))\n",
    "    rdd2_with_record_type = rdd2.map(lambda x: (x[0],[(2, x[1])]))\n",
    "    combined_rdd = rdd1_with_record_type.union(rdd2_with_record_type).reduceByKey(lambda x,y : x+y)\n",
    "    return combined_rdd.flatMap(mapreduce_join_util)"
   ]
  },
  {
   "cell_type": "code",
   "execution_count": 17,
   "metadata": {},
   "outputs": [],
   "source": [
    "#Get RDD of all movies\n",
    "movies_cleaned = df_movies.map(clean_df_movies)\n",
    "all_movieids = movies_cleaned.map(lambda x: (x[0], 0))"
   ]
  },
  {
   "cell_type": "code",
   "execution_count": 18,
   "metadata": {},
   "outputs": [],
   "source": [
    "#Get RDD of rated movies\n",
    "movieid_rating = df_rating.map(lambda x: x.split(\",\")).map(lambda x:(x[1], 1)).reduceByKey(lambda x,y: 1)"
   ]
  },
  {
   "cell_type": "code",
   "execution_count": 36,
   "metadata": {},
   "outputs": [],
   "source": [
    "allmovies_ratedmovies = all_movieids.union(movieid_rating)"
   ]
  },
  {
   "cell_type": "code",
   "execution_count": 37,
   "metadata": {},
   "outputs": [],
   "source": [
    "unrated_movies = allmovies_ratedmovies.reduceByKey(lambda x, y: x+y).filter(lambda x : x[1]==0)"
   ]
  },
  {
   "cell_type": "code",
   "execution_count": 38,
   "metadata": {},
   "outputs": [],
   "source": [
    "unrated_movies = unrated_movies.map(lambda x: (x[0], ''))"
   ]
  },
  {
   "cell_type": "code",
   "execution_count": 39,
   "metadata": {},
   "outputs": [],
   "source": [
    "movies_names = movies_cleaned.map(lambda x: (x[0],  str(x[1])))"
   ]
  },
  {
   "cell_type": "code",
   "execution_count": 40,
   "metadata": {},
   "outputs": [],
   "source": [
    "combined_rdd = mapreduce_join(unrated_movies, movies_names)"
   ]
  },
  {
   "cell_type": "code",
   "execution_count": 42,
   "metadata": {
    "scrolled": true
   },
   "outputs": [],
   "source": [
    "unrated_movies_names = combined_rdd.map(lambda x: x[1])"
   ]
  },
  {
   "cell_type": "code",
   "execution_count": 43,
   "metadata": {},
   "outputs": [
    {
     "data": {
      "text/plain": [
       "['MURDER and murder (1996)',\n",
       " 'Nothing Personal (1995)',\n",
       " 'Very Natural Thing, A (1974)',\n",
       " 'Wedding Bell Blues (1996)',\n",
       " 'Scream of Stone (Schrei aus Stein) (1991)',\n",
       " 'Next Step, The (1995)',\n",
       " 'Tainted (1998)',\n",
       " 'Ripe (1996)',\n",
       " 'Walk in the Sun, A (1945)']"
      ]
     },
     "execution_count": 43,
     "metadata": {},
     "output_type": "execute_result"
    }
   ],
   "source": [
    "unrated_movies_names.collect()"
   ]
  },
  {
   "cell_type": "code",
   "execution_count": 10,
   "metadata": {},
   "outputs": [
    {
     "data": {
      "text/plain": [
       "9"
      ]
     },
     "execution_count": 10,
     "metadata": {},
     "output_type": "execute_result"
    }
   ],
   "source": [
    "#count of unrated movies, just for verification\n",
    "all_movieids.count() - movieid_rating.count()"
   ]
  }
 ],
 "metadata": {
  "kernelspec": {
   "display_name": "Python 2",
   "language": "python",
   "name": "python2"
  },
  "language_info": {
   "codemirror_mode": {
    "name": "ipython",
    "version": 2
   },
   "file_extension": ".py",
   "mimetype": "text/x-python",
   "name": "python",
   "nbconvert_exporter": "python",
   "pygments_lexer": "ipython2",
   "version": "2.7.12"
  }
 },
 "nbformat": 4,
 "nbformat_minor": 2
}
