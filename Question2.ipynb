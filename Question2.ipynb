{
 "cells": [
  {
   "cell_type": "code",
   "execution_count": 1,
   "metadata": {},
   "outputs": [],
   "source": [
    "from pyspark import SparkContext, SparkConf\n",
    "conf = SparkConf().setAppName(\"Movies\")\n",
    "sc = SparkContext(conf = conf) "
   ]
  },
  {
   "cell_type": "code",
   "execution_count": null,
   "metadata": {},
   "outputs": [],
   "source": [
    "df_users = sc.textFile('./moviedata/users.csv')\n",
    "df_zipcodes = sc.textFile('./moviedata/zipcodes.csv')\n",
    "df_rating = sc.textFile('./moviedata/rating.csv')\n",
    "df_movies = sc.textFile('./moviedata/movies.csv')"
   ]
  },
  {
   "cell_type": "code",
   "execution_count": null,
   "metadata": {},
   "outputs": [],
   "source": [
    "zipcode_user = df_users.map(lambda x: x.split(\",\")).map(lambda x:  (str(x[4])[1:-1],str(x[0])))\n",
    "zipcode_user.take(5)"
   ]
  },
  {
   "cell_type": "code",
   "execution_count": null,
   "metadata": {},
   "outputs": [],
   "source": [
    "zipcode_state = df_zipcodes.map(lambda x: x.split(\",\")).map(lambda x:  (str(x[0])[1:-1], str(x[3])[1:-1]))\n",
    "zipcode_state.take(5)"
   ]
  },
  {
   "cell_type": "code",
   "execution_count": null,
   "metadata": {},
   "outputs": [],
   "source": [
    "zipcode_user_state = zipcode_user.join(zipcode_state)\n",
    "zipcode_user_state.take(5)"
   ]
  },
  {
   "cell_type": "code",
   "execution_count": null,
   "metadata": {},
   "outputs": [],
   "source": [
    "user_state = zipcode_user_state.map(lambda x: x[1])\n",
    "user_state.take(5)"
   ]
  },
  {
   "cell_type": "code",
   "execution_count": null,
   "metadata": {},
   "outputs": [],
   "source": [
    "user_movieid_rating = df_rating.map(lambda x: x.split(\",\")).map(lambda x: (str(x[0]), (str(x[1]),int(x[2]))))\n",
    "user_movieid_rating.take(5)"
   ]
  },
  {
   "cell_type": "code",
   "execution_count": null,
   "metadata": {},
   "outputs": [],
   "source": [
    "user_movieid_rating_state = user_movieid_rating.join(user_state)\n",
    "user_movieid_rating_state.take(5)"
   ]
  },
  {
   "cell_type": "code",
   "execution_count": null,
   "metadata": {},
   "outputs": [],
   "source": [
    "movieid_state_rating_count = user_movieid_rating_state.map(lambda x: (x[1][0][0], (x[1][1], x[1][0][1])))\n",
    "movieid_state_rating_count.take(5)"
   ]
  },
  {
   "cell_type": "code",
   "execution_count": null,
   "metadata": {},
   "outputs": [],
   "source": [
    "def clean_df_movies(x):\n",
    "    y = x.split('\\\"')\n",
    "    return y[0].split(',')[0:1] + y[2].split(',')[2:]"
   ]
  },
  {
   "cell_type": "code",
   "execution_count": null,
   "metadata": {
    "scrolled": true
   },
   "outputs": [],
   "source": [
    "df_movies_cleaned = df_movies.map(lambda x : clean_df_movies(x))"
   ]
  },
  {
   "cell_type": "code",
   "execution_count": null,
   "metadata": {},
   "outputs": [],
   "source": [
    "i = 2\n",
    "movieid_genre = df_movies_cleaned.filter(lambda x: int(x[i]) == 1).map(lambda x: (str(x[0]), i))\n",
    "movieid_genre.take(5)"
   ]
  },
  {
   "cell_type": "code",
   "execution_count": null,
   "metadata": {},
   "outputs": [],
   "source": []
  },
  {
   "cell_type": "code",
   "execution_count": null,
   "metadata": {},
   "outputs": [],
   "source": [
    "#New\n",
    "#Pseudocode:\n",
    "#for each genre:\n",
    "#  get list of movies in the above genre\n",
    "#  join list of movies with rating\n",
    "#  joining this with users to get zipcodes\n",
    "#  join this with zipcodes to get state\n",
    "#  reduce on basis of states to get average rating\n",
    "#  return the best average rating state(requirement of question)\n"
   ]
  },
  {
   "cell_type": "code",
   "execution_count": null,
   "metadata": {},
   "outputs": [],
   "source": [
    "df_users = sc.textFile('./moviedata/users.csv').map(lambda x: x.split(\",\"))\n",
    "df_zipcodes = sc.textFile('./moviedata/zipcodes.csv').map(lambda x: x.split(\",\"))\n",
    "df_rating = sc.textFile('./moviedata/rating.csv').map(lambda x: x.split(\",\"))\n",
    "df_movies = sc.textFile('./moviedata/movies.csv')"
   ]
  },
  {
   "cell_type": "code",
   "execution_count": null,
   "metadata": {},
   "outputs": [],
   "source": []
  },
  {
   "cell_type": "code",
   "execution_count": null,
   "metadata": {},
   "outputs": [],
   "source": [
    "movieid_userid_rating = df_rating.map(lambda x: (x[1] , (x[0], float(x[2]))))"
   ]
  },
  {
   "cell_type": "code",
   "execution_count": null,
   "metadata": {},
   "outputs": [],
   "source": [
    "userid_zipcode = df_users.map(lambda x : (x[0], x[4]))"
   ]
  },
  {
   "cell_type": "code",
   "execution_count": null,
   "metadata": {},
   "outputs": [],
   "source": [
    "zipcode_state = df_zipcodes.map(lambda x: (x[0], x[3]))"
   ]
  },
  {
   "cell_type": "code",
   "execution_count": null,
   "metadata": {},
   "outputs": [],
   "source": [
    "movieid_userid_rating.take(5)"
   ]
  },
  {
   "cell_type": "code",
   "execution_count": null,
   "metadata": {},
   "outputs": [],
   "source": [
    "#Clean df_movies\n",
    "df_movies_cleaned = df_movies.map(lambda x: clean_df_movies(x))"
   ]
  },
  {
   "cell_type": "code",
   "execution_count": null,
   "metadata": {},
   "outputs": [],
   "source": [
    "for genre_id in range(1, 20):\n",
    "    #  get list of movies in the above genre\n",
    "    movie_list = df_movies_cleaned.filter(lambda x : int(x[genre_id]) == 1).map(lambda x : (x[0], genre_id))\n",
    "\n",
    "    #  join list of movies with rating\n",
    "    userid_rating_list = movie_list.join(movieid_userid_rating).map(lambda x : (x[1][1][0], x[1][1][1]))\n",
    "\n",
    "    #  joining this with users to get zipcodes\n",
    "    zipcode_rating_list = userid_rating_list.join(userid_zipcode).map(lambda x : (x[1][1], x[1][0]))\n",
    "\n",
    "    #  join this with zipcodes to get state\n",
    "    state_rating_list = zipcode_rating_list.join(zipcode_state).map(lambda x : (x[1][1], (x[1][0], 1)))\n",
    "\n",
    "    #  reduce on basis of states to get average rating\n",
    "    state_avg_rating_tuple = state_rating_list.reduceByKey(lambda x, y : (x[0]+y[0], x[1]+y[1]))\n",
    "    state_avg_rating = state_avg_rating_tuple.map(lambda x: (x[0], x[1][0]/x[1][1]))\n",
    "    \n",
    "    "
   ]
  },
  {
   "cell_type": "code",
   "execution_count": null,
   "metadata": {},
   "outputs": [],
   "source": [
    "from pyspark.statcounter import StatCounter\n",
    "state_avg_rating.aggregate(StatCounter(), StatCounter.merge, StatCounter.mergeStats).maxValue"
   ]
  },
  {
   "cell_type": "code",
   "execution_count": null,
   "metadata": {},
   "outputs": [],
   "source": [
    "movie_user_id_rating_list.take(10)"
   ]
  },
  {
   "cell_type": "code",
   "execution_count": null,
   "metadata": {},
   "outputs": [],
   "source": []
  }
 ],
 "metadata": {
  "kernelspec": {
   "display_name": "Python 2",
   "language": "python",
   "name": "python2"
  },
  "language_info": {
   "codemirror_mode": {
    "name": "ipython",
    "version": 2
   },
   "file_extension": ".py",
   "mimetype": "text/x-python",
   "name": "python",
   "nbconvert_exporter": "python",
   "pygments_lexer": "ipython2",
   "version": "2.7.12"
  }
 },
 "nbformat": 4,
 "nbformat_minor": 2
}
