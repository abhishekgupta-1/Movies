{
 "cells": [
  {
   "cell_type": "code",
   "execution_count": 1,
   "metadata": {},
   "outputs": [],
   "source": [
    "from pyspark import SparkContext, SparkConf\n",
    "conf = SparkConf().setAppName(\"Movies\")\n",
    "sc = SparkContext(conf = conf) "
   ]
  },
  {
   "cell_type": "code",
   "execution_count": 2,
   "metadata": {},
   "outputs": [],
   "source": [
    "df_users = sc.textFile('./moviedata/users.csv')\n",
    "df_zipcodes = sc.textFile('./moviedata/zipcodes.csv')\n",
    "df_rating = sc.textFile('./moviedata/rating.csv')\n",
    "df_movies = sc.textFile('./moviedata/movies.csv')"
   ]
  },
  {
   "cell_type": "code",
   "execution_count": 3,
   "metadata": {},
   "outputs": [],
   "source": [
    "def mapreduce_join_util(x):\n",
    "#     print x[0], x[1]\n",
    "    first_d = []\n",
    "    second_d = []\n",
    "    for u, v in x[1]:\n",
    "        if u == 1:\n",
    "            first_d.append(v)\n",
    "        else:\n",
    "            second_d.append(v)\n",
    "    return [(u, v) for u in first_d for v in second_d]\n",
    "    "
   ]
  },
  {
   "cell_type": "code",
   "execution_count": 4,
   "metadata": {},
   "outputs": [],
   "source": [
    "def mapreduce_join(rdd1, rdd2):\n",
    "    rdd1_with_record_type = rdd1.map(lambda x: (x[0], [(1, x[1])]))\n",
    "    rdd2_with_record_type = rdd2.map(lambda x: (x[0],[(2, x[1])]))\n",
    "    combined_rdd = rdd1_with_record_type.union(rdd2_with_record_type).reduceByKey(lambda x,y : x+y)\n",
    "    return combined_rdd.flatMap(mapreduce_join_util)"
   ]
  },
  {
   "cell_type": "code",
   "execution_count": 5,
   "metadata": {},
   "outputs": [],
   "source": [
    "zipcode_user = df_users.map(lambda x: x.split(\",\")).map(lambda x:  (str(x[4])[1:-1],str(x[0])))"
   ]
  },
  {
   "cell_type": "code",
   "execution_count": 6,
   "metadata": {},
   "outputs": [
    {
     "data": {
      "text/plain": [
       "[('94560', '780'),\n",
       " ('48825', '781'),\n",
       " ('77081', '783'),\n",
       " ('91040', '784'),\n",
       " ('23322', '785')]"
      ]
     },
     "execution_count": 6,
     "metadata": {},
     "output_type": "execute_result"
    }
   ],
   "source": [
    "zipcode_user.take(5)"
   ]
  },
  {
   "cell_type": "code",
   "execution_count": 7,
   "metadata": {},
   "outputs": [],
   "source": [
    "zipcode_state = df_zipcodes.map(lambda x: x.split(\",\")).map(lambda x:  (str(x[0])[1:-1], str(x[3])[1:-1]))"
   ]
  },
  {
   "cell_type": "code",
   "execution_count": 8,
   "metadata": {},
   "outputs": [
    {
     "data": {
      "text/plain": [
       "[('2574', 'MA'),\n",
       " ('1886', 'MA'),\n",
       " ('1472', 'MA'),\n",
       " ('2671', 'MA'),\n",
       " ('2672', 'MA')]"
      ]
     },
     "execution_count": 8,
     "metadata": {},
     "output_type": "execute_result"
    }
   ],
   "source": [
    "zipcode_state.take(5)"
   ]
  },
  {
   "cell_type": "code",
   "execution_count": 9,
   "metadata": {},
   "outputs": [],
   "source": [
    "user_state = mapreduce_join(zipcode_user,zipcode_state)\n",
    "# zipcode_user_state = zipcode_user + zipcode_state\n"
   ]
  },
  {
   "cell_type": "code",
   "execution_count": 10,
   "metadata": {},
   "outputs": [
    {
     "data": {
      "text/plain": [
       "[('95', 'NY'), ('6', 'WA'), ('924', 'NY'), ('403', 'CT'), ('874', 'TN')]"
      ]
     },
     "execution_count": 10,
     "metadata": {},
     "output_type": "execute_result"
    }
   ],
   "source": [
    "user_state.take(5)"
   ]
  },
  {
   "cell_type": "code",
   "execution_count": 11,
   "metadata": {},
   "outputs": [],
   "source": [
    "user_movieid_rating = df_rating.map(lambda x: x.split(\",\")).map(lambda x: (str(x[0]), (str(x[1]),int(x[2]))))"
   ]
  },
  {
   "cell_type": "code",
   "execution_count": 12,
   "metadata": {},
   "outputs": [
    {
     "data": {
      "text/plain": [
       "[('253', ('97', 4)),\n",
       " ('284', ('269', 4)),\n",
       " ('106', ('526', 4)),\n",
       " ('121', ('180', 3)),\n",
       " ('62', ('86', 2))]"
      ]
     },
     "execution_count": 12,
     "metadata": {},
     "output_type": "execute_result"
    }
   ],
   "source": [
    "user_movieid_rating.take(5)"
   ]
  },
  {
   "cell_type": "code",
   "execution_count": 13,
   "metadata": {},
   "outputs": [],
   "source": [
    "# user_movieid_rating_state = user_movieid_rating.join(user_state)\n",
    "movieid_rating_state = mapreduce_join(user_movieid_rating , user_state)"
   ]
  },
  {
   "cell_type": "code",
   "execution_count": 14,
   "metadata": {},
   "outputs": [
    {
     "data": {
      "text/plain": [
       "[(('117', 4), 'NY'),\n",
       " (('137', 4), 'NY'),\n",
       " (('213', 4), 'NY'),\n",
       " (('302', 4), 'NY'),\n",
       " (('693', 3), 'NY')]"
      ]
     },
     "execution_count": 14,
     "metadata": {},
     "output_type": "execute_result"
    }
   ],
   "source": [
    "movieid_rating_state.take(5)"
   ]
  },
  {
   "cell_type": "code",
   "execution_count": 15,
   "metadata": {},
   "outputs": [],
   "source": [
    "movieid_state_rating = movieid_rating_state.map(lambda x: (x[0][0], (x[1], x[0][1])))"
   ]
  },
  {
   "cell_type": "code",
   "execution_count": 16,
   "metadata": {
    "scrolled": true
   },
   "outputs": [
    {
     "data": {
      "text/plain": [
       "[('117', ('NY', 4)),\n",
       " ('137', ('NY', 4)),\n",
       " ('213', ('NY', 4)),\n",
       " ('302', ('NY', 4)),\n",
       " ('693', ('NY', 3))]"
      ]
     },
     "execution_count": 16,
     "metadata": {},
     "output_type": "execute_result"
    }
   ],
   "source": [
    "movieid_state_rating.take(5)"
   ]
  },
  {
   "cell_type": "code",
   "execution_count": 17,
   "metadata": {},
   "outputs": [],
   "source": [
    "def clean_df_movies(x):\n",
    "    y = x.split('\\\"')\n",
    "    return y[0].split(',')[0:1] + y[2].split(',')[2:]"
   ]
  },
  {
   "cell_type": "code",
   "execution_count": 18,
   "metadata": {
    "scrolled": true
   },
   "outputs": [],
   "source": [
    "df_movies_cleaned = df_movies.map(lambda x : clean_df_movies(x))"
   ]
  },
  {
   "cell_type": "code",
   "execution_count": 19,
   "metadata": {},
   "outputs": [],
   "source": [
    "movie_genre=  \"\"\" unknown | Action | Adventure | Animation | Children | Comedy | Crime | Documentary | Drama | Fantasy | Film_Noir | Horror | Musical | Mystery | Romance | Sci_Fi | Thriller | War | Western \"\"\".split(\"|\")\n"
   ]
  },
  {
   "cell_type": "code",
   "execution_count": 21,
   "metadata": {},
   "outputs": [
    {
     "name": "stdout",
     "output_type": "stream",
     "text": [
      " unknown  [('MD', 1.0)]\n",
      " Action  [('ME', 4.5)]\n",
      " Adventure  [('ME', 4.5)]\n",
      " Animation  [('MS', 5.0)]\n",
      " Children  [('MS', 4.444444444444445)]\n",
      " Comedy  [('WV', 4.666666666666667)]\n",
      " Crime  [('WV', 4.833333333333333)]\n",
      " Documentary  [('SD', 5.0)]\n",
      " Drama  [('WV', 4.767441860465116)]\n",
      " Fantasy  [('AL', 5.0)]\n",
      " Film_Noir  [('HI', 5.0)]\n",
      " Horror  [('ME', 5.0)]\n",
      " Musical  [('ME', 4.375)]\n",
      " Mystery  [('WV', 4.666666666666667)]\n",
      " Romance  [('WV', 4.5)]\n",
      " Sci_Fi  [('WV', 4.476190476190476)]\n",
      " Thriller  [('WV', 4.5)]\n",
      " War  [('WV', 4.684210526315789)]\n",
      " Western  [('ME', 4.333333333333333)]\n"
     ]
    }
   ],
   "source": [
    "for i in range(1, 20):\n",
    "    movieid_list = df_movies_cleaned.flatMap(lambda x: [x] if int(x[i]) == 1 else []).map(lambda x: (str(x[0]), i))\n",
    "    state_rating = mapreduce_join(movieid_list, movieid_state_rating).map(lambda x: (x[1][0], (x[1][1], 1)))\n",
    "    state_avg_rating = state_rating.reduceByKey(lambda x,y : (x[0] + y[0], x[1]+y[1])).map(lambda x : (x[0], float(x[1][0])/x[1][1]))\n",
    "    print movie_genre[i-1], state_avg_rating.takeOrdered(1, key = lambda x: -x[1])"
   ]
  },
  {
   "cell_type": "code",
   "execution_count": null,
   "metadata": {},
   "outputs": [],
   "source": []
  }
 ],
 "metadata": {
  "kernelspec": {
   "display_name": "Python 2",
   "language": "python",
   "name": "python2"
  },
  "language_info": {
   "codemirror_mode": {
    "name": "ipython",
    "version": 2
   },
   "file_extension": ".py",
   "mimetype": "text/x-python",
   "name": "python",
   "nbconvert_exporter": "python",
   "pygments_lexer": "ipython2",
   "version": "2.7.12"
  }
 },
 "nbformat": 4,
 "nbformat_minor": 2
}
