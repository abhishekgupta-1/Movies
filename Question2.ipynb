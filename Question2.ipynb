{
 "cells": [
  {
   "cell_type": "code",
   "execution_count": 1,
   "metadata": {},
   "outputs": [],
   "source": [
    "from pyspark import SparkContext, SparkConf\n",
    "conf = SparkConf().setAppName(\"Movies\")\n",
    "sc = SparkContext(conf = conf) "
   ]
  },
  {
   "cell_type": "code",
   "execution_count": 2,
   "metadata": {},
   "outputs": [],
   "source": [
    "df_users = sc.textFile('./moviedata/users.csv')\n",
    "df_zipcodes = sc.textFile('./moviedata/zipcodes.csv')\n",
    "df_rating = sc.textFile('./moviedata/rating.csv')\n",
    "df_movies = sc.textFile('./moviedata/movies.csv')"
   ]
  },
  {
   "cell_type": "code",
   "execution_count": 3,
   "metadata": {},
   "outputs": [],
   "source": [
    "zipcode_user = df_users.map(lambda x: x.split(\",\")).map(lambda x:  (str(x[4])[1:-1],str(x[0])))"
   ]
  },
  {
   "cell_type": "code",
   "execution_count": 4,
   "metadata": {},
   "outputs": [
    {
     "data": {
      "text/plain": [
       "[('94560', '780'),\n",
       " ('48825', '781'),\n",
       " ('77081', '783'),\n",
       " ('91040', '784'),\n",
       " ('23322', '785')]"
      ]
     },
     "execution_count": 4,
     "metadata": {},
     "output_type": "execute_result"
    }
   ],
   "source": [
    "zipcode_user.take(5)"
   ]
  },
  {
   "cell_type": "code",
   "execution_count": 5,
   "metadata": {},
   "outputs": [],
   "source": [
    "zipcode_state = df_zipcodes.map(lambda x: x.split(\",\")).map(lambda x:  (str(x[0])[1:-1], str(x[3])[1:-1]))"
   ]
  },
  {
   "cell_type": "code",
   "execution_count": 6,
   "metadata": {},
   "outputs": [
    {
     "data": {
      "text/plain": [
       "[('2574', 'MA'),\n",
       " ('1886', 'MA'),\n",
       " ('1472', 'MA'),\n",
       " ('2671', 'MA'),\n",
       " ('2672', 'MA')]"
      ]
     },
     "execution_count": 6,
     "metadata": {},
     "output_type": "execute_result"
    }
   ],
   "source": [
    "zipcode_state.take(5)"
   ]
  },
  {
   "cell_type": "code",
   "execution_count": 7,
   "metadata": {},
   "outputs": [],
   "source": [
    "zipcode_user_state = zipcode_user.join(zipcode_state)"
   ]
  },
  {
   "cell_type": "code",
   "execution_count": 8,
   "metadata": {},
   "outputs": [
    {
     "data": {
      "text/plain": [
       "[('10707', ('95', 'NY')),\n",
       " ('98101', ('6', 'WA')),\n",
       " ('11753', ('924', 'NY')),\n",
       " ('6811', ('403', 'CT')),\n",
       " ('37076', ('874', 'TN'))]"
      ]
     },
     "execution_count": 8,
     "metadata": {},
     "output_type": "execute_result"
    }
   ],
   "source": [
    "zipcode_user_state.take(5)"
   ]
  },
  {
   "cell_type": "code",
   "execution_count": 9,
   "metadata": {},
   "outputs": [],
   "source": [
    "user_state = zipcode_user_state.map(lambda x: x[1])"
   ]
  },
  {
   "cell_type": "code",
   "execution_count": 10,
   "metadata": {},
   "outputs": [
    {
     "data": {
      "text/plain": [
       "[('95', 'NY'), ('6', 'WA'), ('924', 'NY'), ('403', 'CT'), ('874', 'TN')]"
      ]
     },
     "execution_count": 10,
     "metadata": {},
     "output_type": "execute_result"
    }
   ],
   "source": [
    "user_state.take(5)"
   ]
  },
  {
   "cell_type": "code",
   "execution_count": 11,
   "metadata": {},
   "outputs": [],
   "source": [
    "user_movieid_rating = df_rating.map(lambda x: x.split(\",\")).map(lambda x: (str(x[0]), (str(x[1]),int(x[2]))))"
   ]
  },
  {
   "cell_type": "code",
   "execution_count": 12,
   "metadata": {},
   "outputs": [
    {
     "data": {
      "text/plain": [
       "[('253', ('97', 4)),\n",
       " ('284', ('269', 4)),\n",
       " ('106', ('526', 4)),\n",
       " ('121', ('180', 3)),\n",
       " ('62', ('86', 2))]"
      ]
     },
     "execution_count": 12,
     "metadata": {},
     "output_type": "execute_result"
    }
   ],
   "source": [
    "user_movieid_rating.take(5)"
   ]
  },
  {
   "cell_type": "code",
   "execution_count": 13,
   "metadata": {},
   "outputs": [],
   "source": [
    "user_movieid_rating_state = user_movieid_rating.join(user_state)"
   ]
  },
  {
   "cell_type": "code",
   "execution_count": 14,
   "metadata": {},
   "outputs": [
    {
     "data": {
      "text/plain": [
       "[('214', (('117', 4), 'NY')),\n",
       " ('214', (('137', 4), 'NY')),\n",
       " ('214', (('213', 4), 'NY')),\n",
       " ('214', (('302', 4), 'NY')),\n",
       " ('214', (('693', 3), 'NY'))]"
      ]
     },
     "execution_count": 14,
     "metadata": {},
     "output_type": "execute_result"
    }
   ],
   "source": [
    "user_movieid_rating_state.take(5)"
   ]
  },
  {
   "cell_type": "code",
   "execution_count": 15,
   "metadata": {},
   "outputs": [],
   "source": [
    "movieid_state_rating = user_movieid_rating_state.map(lambda x: (x[1][0][0], (x[1][1], x[1][0][1])))"
   ]
  },
  {
   "cell_type": "code",
   "execution_count": 16,
   "metadata": {},
   "outputs": [
    {
     "data": {
      "text/plain": [
       "[('117', ('NY', 4)),\n",
       " ('137', ('NY', 4)),\n",
       " ('213', ('NY', 4)),\n",
       " ('302', ('NY', 4)),\n",
       " ('693', ('NY', 3))]"
      ]
     },
     "execution_count": 16,
     "metadata": {},
     "output_type": "execute_result"
    }
   ],
   "source": [
    "movieid_state_rating.take(5)"
   ]
  },
  {
   "cell_type": "code",
   "execution_count": 17,
   "metadata": {},
   "outputs": [],
   "source": [
    "def clean_df_movies(x):\n",
    "    y = x.split('\\\"')\n",
    "    return y[0].split(',')[0:1] + y[2].split(',')[2:]"
   ]
  },
  {
   "cell_type": "code",
   "execution_count": 18,
   "metadata": {
    "scrolled": true
   },
   "outputs": [],
   "source": [
    "df_movies_cleaned = df_movies.map(lambda x : clean_df_movies(x))"
   ]
  },
  {
   "cell_type": "code",
   "execution_count": 19,
   "metadata": {},
   "outputs": [
    {
     "name": "stdout",
     "output_type": "stream",
     "text": [
      "[('ME', 4.5)]\n",
      "[('MS', 5.0)]\n",
      "[('MS', 4.444444444444445)]\n",
      "[('WV', 4.666666666666667)]\n",
      "[('WV', 4.833333333333333)]\n",
      "[('SD', 5.0)]\n",
      "[('WV', 4.767441860465116)]\n",
      "[('AL', 5.0)]\n",
      "[('HI', 5.0)]\n",
      "[('ME', 5.0)]\n",
      "[('ME', 4.375)]\n",
      "[('WV', 4.666666666666667)]\n",
      "[('WV', 4.5)]\n",
      "[('WV', 4.476190476190476)]\n",
      "[('WV', 4.5)]\n",
      "[('WV', 4.684210526315789)]\n",
      "[('ME', 4.333333333333333)]\n"
     ]
    }
   ],
   "source": [
    "for i in range(3, 20):\n",
    "    movieid_list = df_movies_cleaned.filter(lambda x: int(x[i]) == 1).map(lambda x: (str(x[0]), i))\n",
    "    state_rating = movieid_list.join(movieid_state_rating).map(lambda x: (x[1][1][0], (x[1][1][1], 1)))\n",
    "    state_avg_rating = state_rating.reduceByKey(lambda x,y : (x[0] + y[0], x[1]+y[1])).map(lambda x : (x[0], float(x[1][0])/x[1][1]))\n",
    "    print state_avg_rating.takeOrdered(1, key = lambda x: -x[1])"
   ]
  }
 ],
 "metadata": {
  "kernelspec": {
   "display_name": "Python 2",
   "language": "python",
   "name": "python2"
  },
  "language_info": {
   "codemirror_mode": {
    "name": "ipython",
    "version": 2
   },
   "file_extension": ".py",
   "mimetype": "text/x-python",
   "name": "python",
   "nbconvert_exporter": "python",
   "pygments_lexer": "ipython2",
   "version": "2.7.12"
  }
 },
 "nbformat": 4,
 "nbformat_minor": 2
}
