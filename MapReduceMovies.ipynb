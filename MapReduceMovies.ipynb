{
 "cells": [
  {
   "cell_type": "code",
   "execution_count": 1,
   "metadata": {},
   "outputs": [],
   "source": [
    "from pyspark import SparkContext, SparkConf\n",
    "from operator import add"
   ]
  },
  {
   "cell_type": "code",
   "execution_count": 3,
   "metadata": {},
   "outputs": [],
   "source": [
    "conf = SparkConf().setAppName(\"Movies\")\n",
    "sc = SparkContext(conf = conf) "
   ]
  },
  {
   "cell_type": "code",
   "execution_count": 4,
   "metadata": {},
   "outputs": [],
   "source": [
    "from pyspark.sql import SQLContext\n",
    "sqlContext = SQLContext(sc)"
   ]
  },
  {
   "cell_type": "code",
   "execution_count": 5,
   "metadata": {},
   "outputs": [],
   "source": [
    "from pyspark.sql.types import *"
   ]
  },
  {
   "cell_type": "code",
   "execution_count": 48,
   "metadata": {},
   "outputs": [],
   "source": [
    "df = sc.textFile('./moviedata/rating.csv')\n",
    "# df = sqlContext.read.format('com.databricks.spark.csv').load('./moviedata/rating.csv')"
   ]
  },
  {
   "cell_type": "code",
   "execution_count": 79,
   "metadata": {},
   "outputs": [],
   "source": [
    "column_data = df.map(lambda x: x.split(\",\"))\n",
    "#    map(lambda y: (int(y[1]),float(y[2])))\n",
    "# .\\\n",
    "#     map(lambda x: (x[0], x[1])"
   ]
  },
  {
   "cell_type": "code",
   "execution_count": 81,
   "metadata": {},
   "outputs": [
    {
     "data": {
      "text/plain": [
       "321924.0"
      ]
     },
     "execution_count": 81,
     "metadata": {},
     "output_type": "execute_result"
    }
   ],
   "source": [
    "column_data.map(lambda x:float(x[2])).\\\n",
    "    reduce(lambda x,y:(x+y))"
   ]
  },
  {
   "cell_type": "code",
   "execution_count": 73,
   "metadata": {},
   "outputs": [],
   "source": [
    "f = movieid_rating.reduceByKey(lambda x, y: (x+y)/2)"
   ]
  },
  {
   "cell_type": "code",
   "execution_count": 74,
   "metadata": {
    "scrolled": false
   },
   "outputs": [
    {
     "name": "stdout",
     "output_type": "stream",
     "text": [
      "(2, 2.8395091551241176)\n",
      "(4, 2.9392116045726357)\n",
      "(6, 3.75836181640625)\n",
      "(8, 3.5418870012150485)\n"
     ]
    }
   ],
   "source": [
    "for x in f.take(4):\n",
    "    print x"
   ]
  },
  {
   "cell_type": "markdown",
   "metadata": {},
   "source": [
    "Some Random Code Snippets below"
   ]
  },
  {
   "cell_type": "code",
   "execution_count": null,
   "metadata": {},
   "outputs": [],
   "source": [
    "#  users.csv\n",
    "# columns=['userid','age','gender','occupation','zipcode']\n",
    "# types = [IntegerType(), IntegerType(), StringType(), StringType(), IntegerType()]\n"
   ]
  },
  {
   "cell_type": "code",
   "execution_count": null,
   "metadata": {},
   "outputs": [],
   "source": [
    "columns =['userid','movieid','rating','timestamp']\n",
    "types = [IntegerType(), IntegerType(), IntegerType(),IntegerType() ]"
   ]
  },
  {
   "cell_type": "code",
   "execution_count": null,
   "metadata": {},
   "outputs": [],
   "source": [
    "def renameColumn(df, name):\n",
    "    for i in range(0, len(name)):\n",
    "        df = df.withColumnRenamed(\"_c\"+str(i), name[i])\n",
    "    return df\n",
    "df = renameColumn(df, columns)\n",
    "df.printSchema()\n"
   ]
  },
  {
   "cell_type": "code",
   "execution_count": null,
   "metadata": {},
   "outputs": [],
   "source": [
    "# rating = df.map(lambda x : (x['movieid'], x['rating']))"
   ]
  },
  {
   "cell_type": "code",
   "execution_count": null,
   "metadata": {},
   "outputs": [],
   "source": [
    "def convertColumn(df, name, newType):\n",
    "    i = 0\n",
    "    for i in range(0, len(name)): \n",
    "#         print(i, \"_c\"+str(i),name[i],newType[i])\n",
    "        df = df.withColumn(name[i], df[name[i]].cast(newType[i]))\n",
    "    return df\n",
    "df = convertColumn(df, columns, types)\n",
    "df.printSchema()"
   ]
  },
  {
   "cell_type": "code",
   "execution_count": null,
   "metadata": {},
   "outputs": [],
   "source": [
    "df.take(1)"
   ]
  },
  {
   "cell_type": "code",
   "execution_count": null,
   "metadata": {},
   "outputs": [],
   "source": [
    "def countPartitions(id,iterator): \n",
    "    c = 0 \n",
    "    for _ in iterator: \n",
    "      c += 1 \n",
    "    yield (id,c) "
   ]
  },
  {
   "cell_type": "code",
   "execution_count": null,
   "metadata": {
    "scrolled": true
   },
   "outputs": [],
   "source": [
    "#  Example operations\n",
    "# df.select('userid','zipcode').show(10)\n",
    "df.select('movieid')\\\n",
    "    .map(lambda x:(x, ))"
   ]
  },
  {
   "cell_type": "code",
   "execution_count": null,
   "metadata": {},
   "outputs": [],
   "source": []
  }
 ],
 "metadata": {
  "kernelspec": {
   "display_name": "Python 2",
   "language": "python",
   "name": "python2"
  },
  "language_info": {
   "codemirror_mode": {
    "name": "ipython",
    "version": 2
   },
   "file_extension": ".py",
   "mimetype": "text/x-python",
   "name": "python",
   "nbconvert_exporter": "python",
   "pygments_lexer": "ipython2",
   "version": "2.7.12"
  }
 },
 "nbformat": 4,
 "nbformat_minor": 2
}
